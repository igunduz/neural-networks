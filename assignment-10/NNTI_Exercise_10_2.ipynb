{
 "cells": [
  {
   "cell_type": "markdown",
   "id": "3f3e234d",
   "metadata": {
    "id": "3f3e234d"
   },
   "source": [
    "Name:   Anh Tuan Tran\n",
    "Matrikelnummer:  7015463\n",
    "Email:   antr00001@stud.uni-saarland.de\n",
    "   \n",
    "Name:   Deborah Dormah Kanubala\n",
    "Matrikelnummer:   7025906\n",
    "Email:  dkanubala@aimsammi.org\n",
    "\n",
    "Name:    Irem Begüm Gündüz\n",
    "Matrikelnummer:     7026821\n",
    "Email: irgu00001@stud.uni-saarland.de   "
   ]
  },
  {
   "cell_type": "code",
   "execution_count": null,
   "id": "2XqRsqlaY0rN",
   "metadata": {
    "colab": {
     "base_uri": "https://localhost:8080/"
    },
    "id": "2XqRsqlaY0rN",
    "outputId": "2aec1055-30d0-4614-85ed-837f4f150644"
   },
   "outputs": [
    {
     "name": "stdout",
     "output_type": "stream",
     "text": [
      "Mounted at /content/gdrive\n"
     ]
    }
   ],
   "source": [
    "from google.colab import drive\n",
    "\n",
    "drive.mount(\"/content/gdrive\")"
   ]
  },
  {
   "cell_type": "markdown",
   "id": "121bd9f9",
   "metadata": {
    "id": "121bd9f9"
   },
   "source": [
    "## Important: We recommend that you use GPU(s) for these tasks. Google Colab is one such place where you could use GPU(s) for free for a certain duration.\n",
    "\n",
    "# 10.2.1 Design your RNN (4 points)\n",
    "\n",
    "Please create a ```solution.py``` file where you define the following:\n",
    "\n",
    "\n",
    "1. A ```function``` where you use pytorch's Dataset and Dataloader class, and it should return you the desired split for the dataset. The function should have ```split``` as one of its argument and the call to Dataset class should respect this argument. You will manually need to download the dataset first. The desired role of function is as follows:\n",
    "    - Use the ```Large Movie Review Dataset``` dataset. [Link](https://ai.stanford.edu/~amaas/data/sentiment)\n",
    "    - Create Dataset object for different splits\n",
    "    - Computers don't work with natural language, so we have to convert it to some sort of numbers. One such idea would be to use GloVe embeddings for the conversion. Depending on how you choose to do this, you might also have to take care of padding. **Note:** We encourage using the 300d GloVe embeddings.\n",
    "    - Returns the Dataloader object for specified split\n",
    "    - **(Optional)** Try one-hot encoding in-place of GloVe to see how big of an improvement GloVe was for embedding space. There are other (possible but not recommended) ways to do embeddings, such as get POS tags for each word or use a dictionary to define polarity for each word.\n",
    "    \n",
    "2. Multiple ```class``` for your implementation of your networks which does the following:\n",
    "    - Define a RNN class with appropriate layers and hyperparameters\n",
    "    - Define a LSTM class with appropriate layers and hyperparameters\n",
    "    - **(Optionally)** Implement Bi-LSTM, Bi-RNN, Bi-GRU and do a comparison with the one-directional implementation\n"
   ]
  },
  {
   "cell_type": "code",
   "execution_count": 1,
   "id": "6E58qPkaNML8",
   "metadata": {
    "id": "6E58qPkaNML8"
   },
   "outputs": [],
   "source": [
    "from solution import *\n",
    "data_dir = \"aclImdb_v1/aclImdb\"\n",
    "batch_size = 256    \n",
    "vocab, vocab_size  = load_vocab(data_dir + '/imdb.vocab')\n",
    "\n",
    "embedding_dim = 64\n",
    "hidden_dim_rnn = 1024\n",
    "hidden_dim_linear = [2048, 512, 256, 128]\n",
    "output_dim = 1\n",
    "n_rnn_layers = 2\n",
    "bidirectional = False\n",
    "max_length = 128\n",
    "dropout = 0.05\n",
    "device = 'cuda' if torch.cuda.is_available() else 'cpu'\n",
    "num_workers = 8\n",
    "\n",
    "model_name = 'test'\n",
    "first_bach_training_only = False\n",
    "\n",
    "\n",
    "# training setting\n",
    "num_epochs = 30\n",
    "\n",
    "learning_rate = 1e-3\n"
   ]
  },
  {
   "cell_type": "markdown",
   "id": "2b1f9876-0e5b-496d-9f8d-ce3366e0334f",
   "metadata": {
    "id": "2b1f9876-0e5b-496d-9f8d-ce3366e0334f"
   },
   "source": [
    "### Train your model(s) by importing your implementation from ```solution.py``` file in this notebook"
   ]
  },
  {
   "cell_type": "markdown",
   "id": "7a1f0b00-35c8-4404-bbcd-4e78884d7ebd",
   "metadata": {},
   "source": [
    "#### LSTM model with one-hot encoding"
   ]
  },
  {
   "cell_type": "code",
   "execution_count": 12,
   "id": "762d36c5-90fc-44df-9e29-73f440671ecc",
   "metadata": {},
   "outputs": [
    {
     "name": "stdout",
     "output_type": "stream",
     "text": [
      "Epoch train time: 24.572808504104614\n",
      "Epoch: 1, Loss: 0.7046\n",
      "Epoch train time: 25.0588276386261\n",
      "Epoch: 2, Loss: 0.6938\n",
      "Epoch train time: 25.07331919670105\n",
      "Epoch: 3, Loss: 0.6976\n",
      "Evaluation time: 8.115670442581177\n",
      "evaluation on test result: loss: 0.693585145230196 accuracy 50.468\n",
      "Epoch train time: 24.743053913116455\n",
      "Epoch: 4, Loss: 0.6902\n",
      "Epoch train time: 24.79141879081726\n",
      "Epoch: 5, Loss: 0.6679\n",
      "Epoch train time: 24.67777967453003\n",
      "Epoch: 6, Loss: 0.6139\n",
      "Evaluation time: 8.208820819854736\n",
      "evaluation on test result: loss: 0.6140060053796185 accuracy 68.74\n",
      "Epoch train time: 24.91579031944275\n",
      "Epoch: 7, Loss: 0.5039\n",
      "Epoch train time: 24.939034938812256\n",
      "Epoch: 8, Loss: 0.4242\n",
      "Epoch train time: 24.759877920150757\n",
      "Epoch: 9, Loss: 0.3589\n",
      "Evaluation time: 8.16206431388855\n",
      "evaluation on test result: loss: 0.45785760636232337 accuracy 79.244\n",
      "Epoch train time: 24.804245471954346\n",
      "Epoch: 10, Loss: 0.3108\n",
      "Epoch train time: 24.88149929046631\n",
      "Epoch: 11, Loss: 0.2593\n",
      "Epoch train time: 24.70336151123047\n",
      "Epoch: 12, Loss: 0.2169\n",
      "Evaluation time: 8.208593845367432\n",
      "evaluation on test result: loss: 0.6506130321293461 accuracy 79.82\n",
      "Epoch train time: 24.870039701461792\n",
      "Epoch: 13, Loss: 0.1581\n",
      "Epoch train time: 24.519378900527954\n",
      "Epoch: 14, Loss: 0.1232\n",
      "Epoch train time: 24.91074013710022\n",
      "Epoch: 15, Loss: 0.0914\n",
      "Evaluation time: 8.348214387893677\n",
      "evaluation on test result: loss: 0.9683454468542215 accuracy 78.944\n",
      "Epoch train time: 24.97984290122986\n",
      "Epoch: 16, Loss: 0.0722\n",
      "Epoch train time: 24.73975396156311\n",
      "Epoch: 17, Loss: 0.0533\n",
      "Epoch train time: 24.75535249710083\n",
      "Epoch: 18, Loss: 0.0461\n",
      "Evaluation time: 8.1215238571167\n",
      "evaluation on test result: loss: 1.124371007388952 accuracy 79.14\n",
      "Epoch train time: 24.826647520065308\n",
      "Epoch: 19, Loss: 0.0365\n",
      "Epoch train time: 24.76762557029724\n",
      "Epoch: 20, Loss: 0.0299\n",
      "Epoch train time: 25.439108848571777\n",
      "Epoch: 21, Loss: 0.0208\n",
      "Evaluation time: 8.430606842041016\n",
      "evaluation on test result: loss: 1.3189880422183446 accuracy 79.22\n",
      "Epoch train time: 25.04204297065735\n",
      "Epoch: 22, Loss: 0.0182\n",
      "Epoch train time: 24.74797821044922\n",
      "Epoch: 23, Loss: 0.0218\n",
      "Epoch train time: 24.760897159576416\n",
      "Epoch: 24, Loss: 0.0155\n",
      "Evaluation time: 8.27584195137024\n",
      "evaluation on test result: loss: 1.5792220782260507 accuracy 78.672\n",
      "Epoch train time: 24.868741273880005\n",
      "Epoch: 25, Loss: 0.0148\n",
      "Epoch train time: 24.786036491394043\n",
      "Epoch: 26, Loss: 0.0122\n",
      "Epoch train time: 25.367642879486084\n",
      "Epoch: 27, Loss: 0.0151\n",
      "Evaluation time: 8.406041860580444\n",
      "evaluation on test result: loss: 1.8578784538775075 accuracy 79.888\n",
      "Epoch train time: 25.05376172065735\n",
      "Epoch: 28, Loss: 0.0118\n",
      "Epoch train time: 24.77283477783203\n",
      "Epoch: 29, Loss: 0.0178\n",
      "Epoch train time: 24.531877994537354\n",
      "Epoch: 30, Loss: 0.0127\n",
      "Evaluation time: 8.121526956558228\n",
      "evaluation on test result: loss: 1.3092328942551905 accuracy 79.196\n"
     ]
    }
   ],
   "source": [
    "data_dir = \"aclImdb_v1/aclImdb\"\n",
    "vocab, vocab_size  = load_vocab(data_dir + '/imdb.vocab')\n",
    "\n",
    "\n",
    "bidirectional = False\n",
    "rnn_type = \"LSTM\"\n",
    "model_name = \"LSTM_onehot\"\n",
    "\n",
    "torch.manual_seed(100)\n",
    "random.seed(1)\n",
    "\n",
    "# training setting\n",
    "num_epochs = 30\n",
    "\n",
    "learning_rate = 1e-3\n",
    "\n",
    "# Train and test only with the first epoch (for debugging, parameter search purpose)\n",
    "if first_bach_training_only:\n",
    "        import copy\n",
    "        train_loader = get_data_loader('train', batch_size, num_workers=num_workers, max_length=max_length, shuffle=False)\n",
    "        test_loader = copy.deepcopy(train_loader)\n",
    "else:\n",
    "# Train on full data and evaluate on test set for every 3 training epoch\n",
    "    train_loader = get_data_loader('train', batch_size, num_workers=num_workers, max_length=max_length, shuffle=True)\n",
    "    test_loader = get_data_loader('test', batch_size, num_workers=num_workers, max_length=max_length, shuffle=True)\n",
    "model = RNNClassifier(rnn_type, vocab_size, embedding_dim, hidden_dim_rnn, hidden_dim_linear, output_dim, n_rnn_layers, bidirectional, dropout).to(device)\n",
    "\n",
    "# Load a check point\n",
    "# ckpt_path = 'checkpoints/' + model_name + '.pth'\n",
    "# if os.path.exists(ckpt_path):\n",
    "#     print(\"load a pretrained checkpoint:\", ckpt_path)\n",
    "#     load_model(model, ckpt_path)\n",
    "\n",
    "# Define the loss function and optimizer\n",
    "criterion = nn.BCEWithLogitsLoss()\n",
    "optimizer = optim.Adam(model.parameters(), lr=learning_rate)\n",
    "\n",
    "train_losses, test_losses = train_loop(num_epochs, train_loader, test_loader, model, device, model_name, criterion, optimizer, first_bach_training_only)"
   ]
  },
  {
   "cell_type": "code",
   "execution_count": 16,
   "id": "4ebebcb5-6ca0-4c43-9447-9c901e93c06f",
   "metadata": {},
   "outputs": [
    {
     "data": {
      "image/png": "[encoded data removed]",
      "text/plain": [
       "<Figure size 500x500 with 1 Axes>"
      ]
     },
     "metadata": {},
     "output_type": "display_data"
    },
    {
     "name": "stdout",
     "output_type": "stream",
     "text": [
      "test set evaluation\n",
      "test loss 1.3098610262481534 test accuracy 79.196\n",
      "trainset set evaluation\n",
      "train loss 0.0026883325410046975 train accuracy 99.944\n"
     ]
    }
   ],
   "source": [
    "# Plot the training, test accuracy\n",
    "import matplotlib.pyplot as plt\n",
    "epochs = range(1, len(train_losses) + 1)\n",
    "test_epochs = range(1, len(train_losses), 3)\n",
    "plt.figure(figsize=(5,5))\n",
    "plt.plot(epochs, train_losses, 'b', label='Training Loss')\n",
    "plt.plot(test_epochs, test_losses, 'r', label='Test Loss')\n",
    "plt.xlabel(\"epochs\")\n",
    "plt.ylabel(\"loss\")\n",
    "plt.legend()\n",
    "plt.tight_layout()\n",
    "plt.show()\n",
    "\n",
    "# Full testset evaluation\n",
    "print(\"test set evaluation\")\n",
    "loss, acc = evaluate(model, test_loader, criterion, device, -1, first_bach_training_only)\n",
    "print (\"test loss\", loss, \"test accuracy\", acc)\n",
    "\n",
    "# Full trainset evaluation\n",
    "print(\"trainset set evaluation\")\n",
    "loss, acc = evaluate(model, train_loader, criterion, device, -1, first_bach_training_only)\n",
    "print (\"train loss\", loss, \"train accuracy\", acc)"
   ]
  },
  {
   "cell_type": "markdown",
   "id": "955ba54c-cefb-4709-950a-2b66741c1089",
   "metadata": {},
   "source": [
    "#### RNN with one-hot encoding"
   ]
  },
  {
   "cell_type": "code",
   "execution_count": 2,
   "id": "f9a25be6-95e6-462c-a24b-a96bb91a2900",
   "metadata": {},
   "outputs": [
    {
     "name": "stdout",
     "output_type": "stream",
     "text": [
      "Epoch train time: 7.764716148376465\n",
      "Epoch: 1, Loss: 0.7131\n",
      "Epoch train time: 7.735467910766602\n",
      "Epoch: 2, Loss: 0.6946\n",
      "Epoch train time: 7.760127067565918\n",
      "Epoch: 3, Loss: 0.6941\n",
      "Evaluation time: 2.649052858352661\n",
      "evaluation on test result: loss: 0.6933604314619181 accuracy 50.06\n",
      "Epoch train time: 7.795206069946289\n",
      "Epoch: 4, Loss: 0.6956\n",
      "Epoch train time: 7.794696092605591\n",
      "Epoch: 5, Loss: 0.6935\n",
      "Epoch train time: 7.766758441925049\n",
      "Epoch: 6, Loss: 0.6943\n",
      "Evaluation time: 2.662374258041382\n",
      "evaluation on test result: loss: 0.6937040680525254 accuracy 49.992\n",
      "Epoch train time: 7.8691864013671875\n",
      "Epoch: 7, Loss: 0.6936\n",
      "Epoch train time: 7.909068584442139\n",
      "Epoch: 8, Loss: 0.6938\n",
      "Epoch train time: 7.912872076034546\n",
      "Epoch: 9, Loss: 0.6935\n",
      "Evaluation time: 2.6803460121154785\n",
      "evaluation on test result: loss: 0.693320418498954 accuracy 51.036\n",
      "Epoch train time: 7.8955159187316895\n",
      "Epoch: 10, Loss: 0.6939\n",
      "Epoch train time: 8.005199670791626\n",
      "Epoch: 11, Loss: 0.6944\n",
      "Epoch train time: 7.911088466644287\n",
      "Epoch: 12, Loss: 0.6934\n",
      "Evaluation time: 2.658339500427246\n",
      "evaluation on test result: loss: 0.6935282994289788 accuracy 50.008\n",
      "Epoch train time: 7.841947078704834\n",
      "Epoch: 13, Loss: 0.6934\n",
      "Epoch train time: 7.917495489120483\n",
      "Epoch: 14, Loss: 0.6940\n",
      "Epoch train time: 7.889810562133789\n",
      "Epoch: 15, Loss: 0.6937\n",
      "Evaluation time: 2.6575865745544434\n",
      "evaluation on test result: loss: 0.6929975954853759 accuracy 50.008\n",
      "Epoch train time: 7.795192003250122\n",
      "Epoch: 16, Loss: 0.6942\n",
      "Epoch train time: 7.876009225845337\n",
      "Epoch: 17, Loss: 0.6939\n",
      "Epoch train time: 7.9318084716796875\n",
      "Epoch: 18, Loss: 0.6935\n",
      "Evaluation time: 2.6681745052337646\n",
      "evaluation on test result: loss: 0.6930785093988691 accuracy 50.284\n",
      "Epoch train time: 7.904883146286011\n",
      "Epoch: 19, Loss: 0.6935\n",
      "Epoch train time: 7.871211290359497\n",
      "Epoch: 20, Loss: 0.6936\n",
      "Epoch train time: 7.897465944290161\n",
      "Epoch: 21, Loss: 0.6932\n",
      "Evaluation time: 2.64050555229187\n",
      "evaluation on test result: loss: 0.6929816548921623 accuracy 50.068\n",
      "Epoch train time: 7.873948335647583\n",
      "Epoch: 22, Loss: 0.6934\n",
      "Epoch train time: 7.9524688720703125\n",
      "Epoch: 23, Loss: 0.6938\n",
      "Epoch train time: 7.928221225738525\n",
      "Epoch: 24, Loss: 0.6942\n",
      "Evaluation time: 2.665369749069214\n",
      "evaluation on test result: loss: 0.693299550791176 accuracy 50.16\n",
      "Epoch train time: 7.936458349227905\n",
      "Epoch: 25, Loss: 0.6940\n",
      "Epoch train time: 7.86176323890686\n",
      "Epoch: 26, Loss: 0.6937\n",
      "Epoch train time: 7.823529243469238\n",
      "Epoch: 27, Loss: 3.3546\n",
      "Evaluation time: 2.7182397842407227\n",
      "evaluation on test result: loss: 1.2754761163069277 accuracy 49.964\n",
      "Epoch train time: 7.923203706741333\n",
      "Epoch: 28, Loss: 2.5856\n",
      "Epoch train time: 7.812202215194702\n",
      "Epoch: 29, Loss: 0.6939\n",
      "Epoch train time: 7.88179087638855\n",
      "Epoch: 30, Loss: 0.6940\n",
      "Evaluation time: 2.6369848251342773\n",
      "evaluation on test result: loss: 0.6938312479427883 accuracy 49.924\n"
     ]
    }
   ],
   "source": [
    "data_dir = \"aclImdb_v1/aclImdb\"\n",
    "vocab, vocab_size  = load_vocab(data_dir + '/imdb.vocab')\n",
    "\n",
    "\n",
    "bidirectional = False\n",
    "rnn_type = \"RNN\"\n",
    "model_name = \"RNN_onehot\"\n",
    "\n",
    "torch.manual_seed(100)\n",
    "random.seed(1)\n",
    "\n",
    "# training setting\n",
    "num_epochs = 30\n",
    "\n",
    "learning_rate = 1e-4\n",
    "\n",
    "# Train and test only with the first epoch (for debugging, parameter search purpose)\n",
    "if first_bach_training_only:\n",
    "        import copy\n",
    "        train_loader = get_data_loader('train', batch_size, num_workers=num_workers, max_length=max_length, shuffle=False)\n",
    "        test_loader = copy.deepcopy(train_loader)\n",
    "else:\n",
    "# Train on full data and evaluate on test set for every 3 training epoch\n",
    "    train_loader = get_data_loader('train', batch_size, num_workers=num_workers, max_length=max_length, shuffle=True)\n",
    "    test_loader = get_data_loader('train', batch_size, num_workers=num_workers, max_length=max_length, shuffle=True)\n",
    "model = RNNClassifier(rnn_type, vocab_size, embedding_dim, hidden_dim_rnn, hidden_dim_linear, output_dim, n_rnn_layers, bidirectional, dropout).to(device)\n",
    "\n",
    "# Load a check point\n",
    "# ckpt_path = 'checkpoints/' + model_name + '.pth'\n",
    "# if os.path.exists(ckpt_path):\n",
    "#     print(\"load a pretrained checkpoint:\", ckpt_path)\n",
    "#     load_model(model, ckpt_path)\n",
    "\n",
    "# Define the loss function and optimizer\n",
    "criterion = nn.BCEWithLogitsLoss()\n",
    "optimizer = optim.Adam(model.parameters(), lr=learning_rate)\n",
    "\n",
    "train_losses, test_losses = train_loop(num_epochs, train_loader, test_loader, model, device, model_name, criterion, optimizer, first_bach_training_only)"
   ]
  },
  {
   "cell_type": "code",
   "execution_count": 3,
   "id": "662d2be8-3f2e-42d9-908d-50c321bbf447",
   "metadata": {},
   "outputs": [
    {
     "data": {
      "image/png": "[encoded data removed]",
      "text/plain": [
       "<Figure size 500x500 with 1 Axes>"
      ]
     },
     "metadata": {},
     "output_type": "display_data"
    },
    {
     "name": "stdout",
     "output_type": "stream",
     "text": [
      "test set evaluation\n",
      "test loss 0.6938486889917024 test accuracy 49.924\n",
      "trainset set evaluation\n",
      "train loss 0.6938239907731816 train accuracy 49.924\n"
     ]
    }
   ],
   "source": [
    "# Plot the training, test accuracy\n",
    "import matplotlib.pyplot as plt\n",
    "epochs = range(1, len(train_losses) + 1)\n",
    "test_epochs = range(1, len(train_losses), 3)\n",
    "plt.figure(figsize=(5,5))\n",
    "plt.plot(epochs, train_losses, 'b', label='Training Loss')\n",
    "plt.plot(test_epochs, test_losses, 'r', label='Test Loss')\n",
    "plt.xlabel(\"epochs\")\n",
    "plt.ylabel(\"loss\")\n",
    "plt.legend()\n",
    "plt.tight_layout()\n",
    "plt.show()\n",
    "\n",
    "# Full testset evaluation\n",
    "print(\"test set evaluation\")\n",
    "loss, acc = evaluate(model, test_loader, criterion, device, -1, first_bach_training_only)\n",
    "print (\"test loss\", loss, \"test accuracy\", acc)\n",
    "\n",
    "# Full trainset evaluation\n",
    "print(\"trainset set evaluation\")\n",
    "loss, acc = evaluate(model, train_loader, criterion, device, -1, first_bach_training_only)\n",
    "print (\"train loss\", loss, \"train accuracy\", acc)"
   ]
  },
  {
   "cell_type": "markdown",
   "id": "b91cb969-5d66-4bfe-a64c-b84a0f67450a",
   "metadata": {},
   "source": [
    "### Comparison\n",
    "We can see that RNN is much harder to train compared to LSTM, even fitting the training set is difficult"
   ]
  },
  {
   "cell_type": "markdown",
   "id": "26a0a988-4d98-45b3-9529-19f59e96daf1",
   "metadata": {
    "id": "26a0a988-4d98-45b3-9529-19f59e96daf1"
   },
   "source": [
    "# 10.2.2 Transformers (3 points)\n",
    "\n",
    "Let's fine-tune a Transformers based Model for the same task. We will use ```RoBERTa``` for the same. Note that for **converting text to some sort of numbers** you will need to use the tokenizer. HuggingFace has a nice introduction for the same [here](https://huggingface.co/course/chapter1/1)"
   ]
  },
  {
   "cell_type": "code",
   "execution_count": null,
   "id": "aee82088-f8ea-4bd2-9594-beb24157195b",
   "metadata": {},
   "outputs": [],
   "source": []
  },
  {
   "cell_type": "code",
   "execution_count": null,
   "id": "bf096ed5-daf1-4bb6-ab14-0a2f4ddc2605",
   "metadata": {},
   "outputs": [],
   "source": []
  },
  {
   "cell_type": "code",
   "execution_count": null,
   "id": "74fa959a-19d4-441b-8993-883fb2d71ae7",
   "metadata": {},
   "outputs": [],
   "source": []
  }
 ],
 "metadata": {
  "accelerator": "GPU",
  "colab": {
   "provenance": []
  },
  "gpuClass": "standard",
  "kernelspec": {
   "display_name": "nerf-pytorch",
   "language": "python",
   "name": "nerf-pytorch"
  },
  "language_info": {
   "codemirror_mode": {
    "name": "ipython",
    "version": 3
   },
   "file_extension": ".py",
   "mimetype": "text/x-python",
   "name": "python",
   "nbconvert_exporter": "python",
   "pygments_lexer": "ipython3",
   "version": "3.10.8"
  }
 },
 "nbformat": 4,
 "nbformat_minor": 5
}
