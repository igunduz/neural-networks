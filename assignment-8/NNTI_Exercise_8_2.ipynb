{
 "cells": [
  {
   "cell_type": "markdown",
   "id": "3f3e234d",
   "metadata": {},
   "source": [
    "Name:   \n",
    "Matrikelnummer:  \n",
    "Email:   \n",
    "   \n",
    "Name:   \n",
    "Matrikelnummer:   \n",
    "Email:\n",
    "\n",
    "Name:    \n",
    "Matrikelnummer:    \n",
    "Email:    "
   ]
  },
  {
   "cell_type": "markdown",
   "id": "ada51e96",
   "metadata": {},
   "source": [
    "#### Preamble"
   ]
  },
  {
   "cell_type": "code",
   "execution_count": 2,
   "id": "bb034177",
   "metadata": {},
   "outputs": [],
   "source": [
    "# TODO: Import necessary libraries\n",
    "import torch\n",
    "from torchvision import transforms\n",
    "from torchvision import datasets"
   ]
  },
  {
   "cell_type": "markdown",
   "id": "121bd9f9",
   "metadata": {},
   "source": [
    "# 8.2 Using different Optimizers\n",
    "\n",
    "In this exercise you get to use your previously built networks, but this time we will play around with different optimizers and have a brief introduction to schedulers (Bonus)"
   ]
  },
  {
   "cell_type": "markdown",
   "id": "7f66f378",
   "metadata": {},
   "source": [
    "### 8.2.1 AdaGrad, Adam, SGD\n",
    "\n",
    "In this exercise reuse your deep regularized network from Assignment 7 (using `torch`) and train your model with different optimizers, namely AdaGrad, Adam, and SGD. (**1 point**)\n",
    "\n",
    "Report your accuracy and $F_1 score$ matrices for training and test set. Do you see any difference in the matrices with rergards to number of epochs? (**0.5 point**)\n",
    "\n",
    "Plot the values of your training loss for all three optimizers. Does your observation of differences match what you expected? (**0.5 point**)\n",
    "\n",
    "In another plot, visualize the weight update trajectories of your model when using different optimizers.\n",
    "\n",
    "*You should keep in mind that while generating points for plotting, you should keep other hyperparameters constant. This provides you a better sense of performance comparison.*"
   ]
  },
  {
   "cell_type": "code",
   "execution_count": null,
   "id": "3114d8cb",
   "metadata": {},
   "outputs": [],
   "source": [
    "class Model(nn.Module):\n",
    "    \"\"\"\n",
    "    Reuse your Deep Regularized Network model from last exercise to create this model. It should be possible for your model to use an optimizer\n",
    "    based on a value passed to the class.\n",
    "    \"\"\"\n",
    "    # TODO: Implement\n",
    "    def __init__(self):\n",
    "        raise NotImplementedError"
   ]
  },
  {
   "cell_type": "code",
   "execution_count": null,
   "id": "11d423b0",
   "metadata": {},
   "outputs": [],
   "source": [
    "# Load the data\n",
    "# DO NOT CHANGE THE CODE IN THIS CELL EXCEPT FOR THE BATCH SIZE IF NECESSARY\n",
    "transform_fn = transforms.Compose([transforms.ToTensor(), transforms.Normalize((0.7,), (0.7,)),])\n",
    "\n",
    "mnist_train = datasets.MNIST(root='./data', train=True, download=True, transform=transform_fn)\n",
    "train_dl = torch.utils.data.DataLoader(mnist_train, batch_size=32, shuffle=True)\n",
    "\n",
    "mnist_test = datasets.MNIST(root='./data', train=False, download=True, transform=transform_fn)\n",
    "test_dl = torch.utils.data.DataLoader(mnist_test, batch_size=32, shuffle=False)\n",
    "\n",
    "# Use the above data for your experiments"
   ]
  },
  {
   "cell_type": "code",
   "execution_count": null,
   "id": "90ffe95a",
   "metadata": {},
   "outputs": [],
   "source": [
    "# TODO: Run your experiments and plot the results"
   ]
  },
  {
   "cell_type": "markdown",
   "id": "fd1b43f4",
   "metadata": {},
   "source": [
    "### 8.2.2 Schedulers (1 point) (**Bonus**)\n",
    "\n",
    "In `torch.optim` module, we have a functionality called `scheduler` https://pytorch.org/docs/stable/optim.html & in several different flavour of schedulers i.e. in Pytorch Ignite and HuggingFace, we have a functionality called `warmup_steps`. Briefly explain why would we need to use a scheduler with warmup steps."
   ]
  },
  {
   "cell_type": "markdown",
   "id": "26a0a988-4d98-45b3-9529-19f59e96daf1",
   "metadata": {},
   "source": []
  }
 ],
 "metadata": {
  "kernelspec": {
   "display_name": "Python 3 (ipykernel)",
   "language": "python",
   "name": "python3"
  },
  "language_info": {
   "codemirror_mode": {
    "name": "ipython",
    "version": 3
   },
   "file_extension": ".py",
   "mimetype": "text/x-python",
   "name": "python",
   "nbconvert_exporter": "python",
   "pygments_lexer": "ipython3",
   "version": "3.9.6"
  }
 },
 "nbformat": 4,
 "nbformat_minor": 5
}
