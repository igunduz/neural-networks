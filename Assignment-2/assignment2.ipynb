{
 "cells": [
  {
   "cell_type": "markdown",
   "id": "800a5a92",
   "metadata": {},
   "source": [
    "Team member 1 (name, email, id):   \n",
    "Team member 2 (name, email, id):  \n",
    "Team member 3 (name, email, id):"
   ]
  },
  {
   "cell_type": "markdown",
   "id": "89c58443",
   "metadata": {},
   "source": [
    "## Exercise 2.3 PCA for visualization purposes (3 points)"
   ]
  },
  {
   "cell_type": "markdown",
   "id": "bdcffbd9",
   "metadata": {},
   "source": [
    "In this exercise you will perform visualization of [MNIST](http://yann.lecun.com/exdb/mnist/) dataset using PCA. The end result of this exercise should look like [Embedding Projector](https://projector.tensorflow.org/) (please select \"Mnist with images\" in the dropdown menu on the left of the page).  \n",
    "Write your code in the respective cells. Of course, you can add additional cells or change their order, but please don't significantly change the structure of the notebook. You must use PyTorch tensors to perform all the calculations.  \n",
    "For each question that requires written answer, please write it in a markdown cell."
   ]
  },
  {
   "cell_type": "code",
   "execution_count": null,
   "id": "68bb486e",
   "metadata": {},
   "outputs": [],
   "source": [
    "import torch\n",
    "from torchvision.datasets import MNIST\n",
    "from torchvision import transforms\n",
    "import torchvision\n",
    "import numpy as np"
   ]
  },
  {
   "cell_type": "markdown",
   "id": "2f0e9f12",
   "metadata": {},
   "source": [
    "#### Loading the data"
   ]
  },
  {
   "cell_type": "code",
   "execution_count": null,
   "id": "7772d6d0",
   "metadata": {},
   "outputs": [],
   "source": [
    "# Download the dataset and save it to a local folder. You should use the train set.\n",
    "mnist_dataset = torchvision.datasets.MNIST('data/', train=True, download=True)\n",
    "\n",
    "X, Y = mnist_dataset.data, mnist_dataset.targets\n",
    "print(X.shape)\n",
    "\n",
    "X_flat = X.reshape(-1, 28*28).float()\n",
    "print(X_flat.shape)\n",
    "\n",
    "# We must make the data zero-centered before applying PCA\n",
    "M = torch.mean(X_flat)\n",
    "X_flat = X_flat - M"
   ]
  },
  {
   "cell_type": "markdown",
   "id": "db45fa01",
   "metadata": {},
   "source": [
    "### 2.2.1. Perform PCA on the input data (1 point)"
   ]
  },
  {
   "cell_type": "markdown",
   "id": "1e3ab4bc",
   "metadata": {},
   "source": [
    "Calculate covariance matrix of the input data. Hint: You can use torch.matmul for matrix multiplication."
   ]
  },
  {
   "cell_type": "code",
   "execution_count": null,
   "id": "b711c7f3",
   "metadata": {},
   "outputs": [],
   "source": []
  },
  {
   "cell_type": "markdown",
   "id": "8bf63221",
   "metadata": {},
   "source": [
    "Perform eigendecomposion of the covariance matrix. Hint: you can use torch.linalg.eig."
   ]
  },
  {
   "cell_type": "code",
   "execution_count": null,
   "id": "91b86333",
   "metadata": {},
   "outputs": [],
   "source": []
  },
  {
   "cell_type": "markdown",
   "id": "d9355491",
   "metadata": {},
   "source": [
    "### 2.2.2 Analyzing the results of PCA (1 point)"
   ]
  },
  {
   "cell_type": "markdown",
   "id": "fbb5fdd8",
   "metadata": {},
   "source": [
    "Extract the first two principal components of the data, i.e. reduce the dimensionality of the dataset to 2. Plot the result. Different numbers must be represented as different colors on the scatter plot. You can use a randomly sampled portion of the data so that the plot doesn't get cluttered.   \n",
    "Describe whether it's possible to differentiate the numbers in 2 dimensions. Are there any additional observations?"
   ]
  },
  {
   "cell_type": "code",
   "execution_count": null,
   "id": "1ad8997e",
   "metadata": {},
   "outputs": [],
   "source": [
    "# sample_size = ..."
   ]
  },
  {
   "cell_type": "markdown",
   "id": "69a3d97a",
   "metadata": {},
   "source": [
    "Plot the graph of cumulative explained variance vs number of components. You might also want to make an additional plot for the first N components. How many components should we use to describe the data? Motivate your answer."
   ]
  },
  {
   "cell_type": "code",
   "execution_count": null,
   "id": "ab1edec5",
   "metadata": {},
   "outputs": [],
   "source": []
  },
  {
   "cell_type": "markdown",
   "id": "fe68607e",
   "metadata": {},
   "source": [
    "### 2.2.3 Visualizing the data in 3 dimensions (1 point)"
   ]
  },
  {
   "cell_type": "markdown",
   "id": "401935bb",
   "metadata": {},
   "source": [
    "Reduce the dimensionality of the dataset to 3. Using Tensorboard visualize the resultant data in 3 dimensions. You should get the result similar to the [Embedding Projector](https://projector.tensorflow.org/) project (actually, they use the same Tensorboard package, so the result might be even exactly the same). You can use differently colored points instead of the digit pictures."
   ]
  },
  {
   "cell_type": "code",
   "execution_count": null,
   "id": "7dfb66e4",
   "metadata": {},
   "outputs": [],
   "source": []
  },
  {
   "cell_type": "markdown",
   "id": "82efdaf9",
   "metadata": {},
   "source": [
    "Analyze the resultant plot.  \n",
    "Is 3 dimensions considerably better than 2?  \n",
    "Which digits stand out in 3D and which digits are difficult to differentiate in 3 dimensions?"
   ]
  },
  {
   "cell_type": "code",
   "execution_count": null,
   "id": "b623ec85",
   "metadata": {},
   "outputs": [],
   "source": []
  }
 ],
 "metadata": {
  "kernelspec": {
   "display_name": "Python 3",
   "language": "python",
   "name": "python3"
  },
  "language_info": {
   "codemirror_mode": {
    "name": "ipython",
    "version": 3
   },
   "file_extension": ".py",
   "mimetype": "text/x-python",
   "name": "python",
   "nbconvert_exporter": "python",
   "pygments_lexer": "ipython3",
   "version": "3.7.10"
  }
 },
 "nbformat": 4,
 "nbformat_minor": 5
}
