{
 "cells": [
  {
   "cell_type": "markdown",
   "id": "454e0124",
   "metadata": {
    "id": "454e0124"
   },
   "source": [
    "# Speaker-Independent Spoken Digit Recognition (xSDR)\n",
    "\n",
    "\n",
    "One of the successful stories of deep neural networks is the proliferation of commercial of automatic speech recognition (ASR) systems. This project aims to explore one application of ML-powered ASR to the problem of spoken digit recognition (SDR). Since digits are widely used as unique identifiers for bank information, social security numbers, post codes, etc, SDR systems can be an efficient alternative to fully-fledged ASR systems since the domain is more predictable than other applications of ASR. \n",
    "\n",
    "In this project, we focus on developing a SDR system in a speaker-independent setting. That is, the speakers in the evaluation set are disjoint from the training set speakers. We do so because we expect real-world ASR systems to generalize to different speakers than those we have data for. Moreover, for many languages that are under-resourced, we have have (limited) annotated speech data from a single speaker, but we would still want the system to be deployed to work on any speaker of that language. We tackle the problem of spoken digit recognition as a sequence classification task. Concretely, the inputs are short audio clips of a specific digit (in the range 0-9), then the goal is to build deep neural network models to classify a short audio clip and predict the digit that was spoken."
   ]
  },
  {
   "cell_type": "markdown",
   "id": "be83711d-f753-44e7-9521-8881623b9521",
   "metadata": {},
   "source": [
    "# Notes\n",
    "\n",
    "## Code Submission\n",
    "\n",
    "You don't necessarily need to complete the code in this Jupyter Notebook, you are free to use another notebook or a python script file, as you would like. You are expected to submit the code by **22.03.2023**.\n",
    "\n",
    "Your code should be clean and well commented. We also expect that if we decide to run it on our system, it should be straighforward to do so. We recommend creating a ```requirements.txt``` file with the names of all the libraries with their versions. If applicable, please mention the python version in a ```README.md``` file, which should also include instructions on how to run your code.\n",
    "\n",
    "As mentioned for the assignments, always remember to cite the code with the links as comments, if you decide to use it from a public repository.\n",
    "\n",
    "## Report Submission\n",
    "\n",
    "With the code, you are also expected to submit a report with a maximum of 4 pages. You should write your report in LaTeX using this template for ACL 2023 [Overleaf Link](https://www.overleaf.com/latex/templates/acl-2023-proceedings-template/qjdgcrdwcnwp). Use this document to fill in any missing information that are not necessarily covered during your presentation for the sake of time in the presentation. While writing your report, we would highly encourgae you to cite the papers behind each tool / library / function that you might use for your experiments. We have also released an example on how to write equations in LaTeX [here](https://piazza.com/class/l9so16qqvk34hu/post/52).\n",
    "\n",
    "You art also expected to submit this report with your code. You should provide the **.tex, .pdf and all image files** zipped with the same naming convention as it was in your assignment(s).\n",
    "\n",
    "## Presentation\n",
    "\n",
    "During the last week of March 2023, i.e. 27.03 -- 31.03, each team will be presenting their works for 15 minutes. We expect equal contribution from each member in delivery and content of the presentation. So roughly 5 minutes for one person, if you have 3 people in your team. There will be 5 minutes for some Q&A. At-least one person from your team should be present to do an in-person presentation, rest of your team could join remotely, if they are not present.\n",
    "\n",
    "## Important Dates\n",
    "\n",
    " - Code & Report Submission: 22.03.2023 (08.00)\n",
    " - Presentation: 27.03.2023 -- 31.03.2023\n",
    " \n",
    " You'll get a precise date and time for your team's presentation at a later time."
   ]
  },
  {
   "cell_type": "markdown",
   "id": "61601679-f2f0-437a-8233-54c5ab0cac17",
   "metadata": {},
   "source": [
    "### Grading\n",
    "\n",
    "In this project, your final grades will be determined as follows:\n",
    "\n",
    " - **30%**: &emsp; Completing all the tasks\n",
    " - **30%**: &emsp; Providing scientific-backings for all the methods used\n",
    " - **20%**: &emsp; Quality of the content of the presentation\n",
    " - **20%**: &emsp; Delivery of the presentation"
   ]
  },
  {
   "cell_type": "code",
   "execution_count": 279,
   "id": "020b704f",
   "metadata": {
    "executionInfo": {
     "elapsed": 3612,
     "status": "ok",
     "timestamp": 1674212543207,
     "user": {
      "displayName": "Hyoseung Kang",
      "userId": "00233629824676120159"
     },
     "user_tz": -60
    },
    "id": "020b704f"
   },
   "outputs": [],
   "source": [
    "#%matplotlib inline\n",
    "import numpy as np\n",
    "import scipy, matplotlib.pyplot as plt, IPython.display as ipd\n",
    "import librosa, librosa.display\n",
    "\n",
    "import pandas as pd\n",
    "\n",
    "from sklearn  import preprocessing\n",
    "\n",
    "from collections import defaultdict, Counter\n",
    "\n",
    "# add this to ignore warnings from Librosa\n",
    "import warnings\n",
    "warnings.filterwarnings('ignore')\n",
    "\n",
    "import random"
   ]
  },
  {
   "cell_type": "code",
   "execution_count": 291,
   "id": "2b2719f5",
   "metadata": {
    "executionInfo": {
     "elapsed": 20,
     "status": "ok",
     "timestamp": 1674212543209,
     "user": {
      "displayName": "Hyoseung Kang",
      "userId": "00233629824676120159"
     },
     "user_tz": -60
    },
    "id": "2b2719f5"
   },
   "outputs": [],
   "source": [
    "# for linear models \n",
    "from sklearn.linear_model import SGDClassifier, RidgeClassifier, PassiveAggressiveClassifier\n",
    "from sklearn.preprocessing import StandardScaler\n",
    "from sklearn.metrics import accuracy_score\n",
    "from sklearn.metrics import plot_confusion_matrix\n",
    "from sklearn.metrics import classification_report\n",
    "from sklearn.metrics import confusion_matrix"
   ]
  },
  {
   "cell_type": "code",
   "execution_count": 232,
   "id": "f70e4098",
   "metadata": {
    "executionInfo": {
     "elapsed": 18,
     "status": "ok",
     "timestamp": 1674212543209,
     "user": {
      "displayName": "Hyoseung Kang",
      "userId": "00233629824676120159"
     },
     "user_tz": -60
    },
    "id": "f70e4098"
   },
   "outputs": [],
   "source": [
    "from sklearn.neural_network import MLPClassifier"
   ]
  },
  {
   "cell_type": "markdown",
   "id": "6a0a0884",
   "metadata": {
    "id": "6a0a0884"
   },
   "source": [
    "## Exploring the Dataset \n",
    "\n",
    "The speech samples are already divied into training, development, and test spilts. The splits are made in such way that evaluation speakers are not present in training split. You should use the splits as they are. \n",
    "\n",
    "**CAUTION:** \n",
    "\n",
    "In this project, you are not allowed to use any external data for this problem (at least for the main three tasks). Exploring the effect of additional datasets in this project can only included as a further step after completing the main requirements with the given data. "
   ]
  },
  {
   "cell_type": "code",
   "execution_count": 233,
   "id": "bfce7ebe-89ea-4a4c-a7eb-adafeb2e7a0d",
   "metadata": {},
   "outputs": [],
   "source": [
    "import pandas as pd"
   ]
  },
  {
   "cell_type": "code",
   "execution_count": 234,
   "id": "c40503e1",
   "metadata": {
    "id": "c40503e1"
   },
   "outputs": [],
   "source": [
    "# read tsv file into a dataframe \n",
    "sdr_df = pd.read_csv('SDR_metadata.tsv', sep='\\t', header=0, index_col='Unnamed: 0')"
   ]
  },
  {
   "cell_type": "code",
   "execution_count": 235,
   "id": "b9a087bc",
   "metadata": {
    "executionInfo": {
     "elapsed": 16,
     "status": "aborted",
     "timestamp": 1674212543211,
     "user": {
      "displayName": "Hyoseung Kang",
      "userId": "00233629824676120159"
     },
     "user_tz": -60
    },
    "id": "b9a087bc"
   },
   "outputs": [
    {
     "data": {
      "text/html": [
       "<div>\n",
       "<style scoped>\n",
       "    .dataframe tbody tr th:only-of-type {\n",
       "        vertical-align: middle;\n",
       "    }\n",
       "\n",
       "    .dataframe tbody tr th {\n",
       "        vertical-align: top;\n",
       "    }\n",
       "\n",
       "    .dataframe thead th {\n",
       "        text-align: right;\n",
       "    }\n",
       "</style>\n",
       "<table border=\"1\" class=\"dataframe\">\n",
       "  <thead>\n",
       "    <tr style=\"text-align: right;\">\n",
       "      <th></th>\n",
       "      <th>identifier</th>\n",
       "      <th>speaker</th>\n",
       "      <th>split</th>\n",
       "      <th>label</th>\n",
       "      <th>file</th>\n",
       "    </tr>\n",
       "  </thead>\n",
       "  <tbody>\n",
       "    <tr>\n",
       "      <th>0</th>\n",
       "      <td>5_theo_23</td>\n",
       "      <td>theo</td>\n",
       "      <td>TRAIN</td>\n",
       "      <td>5</td>\n",
       "      <td>speech_data/5_theo_23.wav</td>\n",
       "    </tr>\n",
       "    <tr>\n",
       "      <th>1</th>\n",
       "      <td>2_yweweler_39</td>\n",
       "      <td>yweweler</td>\n",
       "      <td>TEST</td>\n",
       "      <td>2</td>\n",
       "      <td>speech_data/2_yweweler_39.wav</td>\n",
       "    </tr>\n",
       "    <tr>\n",
       "      <th>2</th>\n",
       "      <td>6_yweweler_34</td>\n",
       "      <td>yweweler</td>\n",
       "      <td>DEV</td>\n",
       "      <td>6</td>\n",
       "      <td>speech_data/6_yweweler_34.wav</td>\n",
       "    </tr>\n",
       "    <tr>\n",
       "      <th>3</th>\n",
       "      <td>6_yweweler_16</td>\n",
       "      <td>yweweler</td>\n",
       "      <td>DEV</td>\n",
       "      <td>6</td>\n",
       "      <td>speech_data/6_yweweler_16.wav</td>\n",
       "    </tr>\n",
       "    <tr>\n",
       "      <th>4</th>\n",
       "      <td>9_yweweler_2</td>\n",
       "      <td>yweweler</td>\n",
       "      <td>TEST</td>\n",
       "      <td>9</td>\n",
       "      <td>speech_data/9_yweweler_2.wav</td>\n",
       "    </tr>\n",
       "  </tbody>\n",
       "</table>\n",
       "</div>"
      ],
      "text/plain": [
       "      identifier   speaker  split  label                           file\n",
       "0      5_theo_23      theo  TRAIN      5      speech_data/5_theo_23.wav\n",
       "1  2_yweweler_39  yweweler   TEST      2  speech_data/2_yweweler_39.wav\n",
       "2  6_yweweler_34  yweweler    DEV      6  speech_data/6_yweweler_34.wav\n",
       "3  6_yweweler_16  yweweler    DEV      6  speech_data/6_yweweler_16.wav\n",
       "4   9_yweweler_2  yweweler   TEST      9   speech_data/9_yweweler_2.wav"
      ]
     },
     "execution_count": 235,
     "metadata": {},
     "output_type": "execute_result"
    }
   ],
   "source": [
    "sdr_df.head()"
   ]
  },
  {
   "cell_type": "code",
   "execution_count": 236,
   "id": "4c34786a",
   "metadata": {
    "executionInfo": {
     "elapsed": 17,
     "status": "aborted",
     "timestamp": 1674212543212,
     "user": {
      "displayName": "Hyoseung Kang",
      "userId": "00233629824676120159"
     },
     "user_tz": -60
    },
    "id": "4c34786a"
   },
   "outputs": [
    {
     "data": {
      "text/plain": [
       "{'george', 'jackson', 'lucas', 'nicolas', 'theo', 'yweweler'}"
      ]
     },
     "execution_count": 236,
     "metadata": {},
     "output_type": "execute_result"
    }
   ],
   "source": [
    "set(sdr_df.speaker.values)"
   ]
  },
  {
   "cell_type": "code",
   "execution_count": 237,
   "id": "155ea375",
   "metadata": {
    "executionInfo": {
     "elapsed": 17,
     "status": "aborted",
     "timestamp": 1674212543213,
     "user": {
      "displayName": "Hyoseung Kang",
      "userId": "00233629824676120159"
     },
     "user_tz": -60
    },
    "id": "155ea375"
   },
   "outputs": [
    {
     "data": {
      "text/html": [
       "<div>\n",
       "<style scoped>\n",
       "    .dataframe tbody tr th:only-of-type {\n",
       "        vertical-align: middle;\n",
       "    }\n",
       "\n",
       "    .dataframe tbody tr th {\n",
       "        vertical-align: top;\n",
       "    }\n",
       "\n",
       "    .dataframe thead th {\n",
       "        text-align: right;\n",
       "    }\n",
       "</style>\n",
       "<table border=\"1\" class=\"dataframe\">\n",
       "  <thead>\n",
       "    <tr style=\"text-align: right;\">\n",
       "      <th></th>\n",
       "      <th>identifier</th>\n",
       "      <th>speaker</th>\n",
       "      <th>split</th>\n",
       "      <th>label</th>\n",
       "      <th>file</th>\n",
       "    </tr>\n",
       "  </thead>\n",
       "  <tbody>\n",
       "    <tr>\n",
       "      <th>700</th>\n",
       "      <td>7_theo_0</td>\n",
       "      <td>theo</td>\n",
       "      <td>TRAIN</td>\n",
       "      <td>7</td>\n",
       "      <td>speech_data/7_theo_0.wav</td>\n",
       "    </tr>\n",
       "  </tbody>\n",
       "</table>\n",
       "</div>"
      ],
      "text/plain": [
       "    identifier speaker  split  label                      file\n",
       "700   7_theo_0    theo  TRAIN      7  speech_data/7_theo_0.wav"
      ]
     },
     "execution_count": 237,
     "metadata": {},
     "output_type": "execute_result"
    }
   ],
   "source": [
    "# explore one sample: 7_theo_0\n",
    "sdr_df.loc[sdr_df['identifier'] == '7_theo_0']"
   ]
  },
  {
   "cell_type": "code",
   "execution_count": 238,
   "id": "e03e0920",
   "metadata": {
    "executionInfo": {
     "elapsed": 18,
     "status": "aborted",
     "timestamp": 1674212543214,
     "user": {
      "displayName": "Hyoseung Kang",
      "userId": "00233629824676120159"
     },
     "user_tz": -60
    },
    "id": "e03e0920"
   },
   "outputs": [],
   "source": [
    "sample_wav_file = sdr_df.loc[sdr_df['identifier'] == '7_theo_0'].file[700]"
   ]
  },
  {
   "cell_type": "markdown",
   "id": "6ab5f7e7",
   "metadata": {
    "id": "6ab5f7e7"
   },
   "source": [
    "## The Speech Waveform\n",
    "\n",
    "The acoustic realization of speech segment can be (digitally) viewed as a time-variant wavform $\\mathbf{S} \\in \\mathbb{R}^{n}$. Here, $n$ depends on both the duration of the speech segment and the sampling rate of the continous speech singal. Let's check out one sample from the data set. "
   ]
  },
  {
   "cell_type": "code",
   "execution_count": 239,
   "id": "ac93353b",
   "metadata": {
    "executionInfo": {
     "elapsed": 18,
     "status": "aborted",
     "timestamp": 1674212543214,
     "user": {
      "displayName": "Hyoseung Kang",
      "userId": "00233629824676120159"
     },
     "user_tz": -60
    },
    "id": "ac93353b"
   },
   "outputs": [
    {
     "data": {
      "text/html": [
       "\n",
       "                <audio  controls=\"controls\" >\n",
       "                    <source src=\"data:audio/wav;base64,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\" type=\"audio/wav\" />\n",
       "                    Your browser does not support the audio element.\n",
       "                </audio>\n",
       "              "
      ],
      "text/plain": [
       "<IPython.lib.display.Audio object>"
      ]
     },
     "execution_count": 239,
     "metadata": {},
     "output_type": "execute_result"
    }
   ],
   "source": [
    "# play and listen to a sample \n",
    "SAMPLING_RATE = 8000 # This value is determined by the wav file, DO NOT CHANGE\n",
    "\n",
    "x, sr = librosa.load(sample_wav_file, sr=SAMPLING_RATE) #, \n",
    "ipd.Audio(x, rate=sr)"
   ]
  },
  {
   "cell_type": "code",
   "execution_count": 240,
   "id": "b7438910",
   "metadata": {
    "executionInfo": {
     "elapsed": 19,
     "status": "aborted",
     "timestamp": 1674212543215,
     "user": {
      "displayName": "Hyoseung Kang",
      "userId": "00233629824676120159"
     },
     "user_tz": -60
    },
    "id": "b7438910"
   },
   "outputs": [
    {
     "data": {
      "image/png": "[encoded data removed]",
      "text/plain": [
       "<Figure size 720x144 with 1 Axes>"
      ]
     },
     "metadata": {
      "needs_background": "light"
     },
     "output_type": "display_data"
    }
   ],
   "source": [
    "# plot as a waveform \n",
    "fig, ax = plt.subplots(figsize=(10, 2), sharex=True)\n",
    "\n",
    "img = librosa.display.waveshow(y=x, sr=sr, alpha=0.75, x_axis='time', color='blue')\n",
    "\n",
    "ax.set(title='Amplitude waveform')\n",
    "ax.set_ylabel('Amplitude')\n",
    "ax.label_outer()"
   ]
  },
  {
   "cell_type": "code",
   "execution_count": 241,
   "id": "3c4297e5",
   "metadata": {
    "executionInfo": {
     "elapsed": 20,
     "status": "aborted",
     "timestamp": 1674212543216,
     "user": {
      "displayName": "Hyoseung Kang",
      "userId": "00233629824676120159"
     },
     "user_tz": -60
    },
    "id": "3c4297e5"
   },
   "outputs": [
    {
     "data": {
      "text/plain": [
       "428.5"
      ]
     },
     "execution_count": 241,
     "metadata": {},
     "output_type": "execute_result"
    }
   ],
   "source": [
    "# sample duration in milliseconds\n",
    "(1000*len(x))/SAMPLING_RATE"
   ]
  },
  {
   "cell_type": "markdown",
   "id": "3df44120",
   "metadata": {
    "id": "3df44120"
   },
   "source": [
    "In the cell above, you can see the temporal duration of the audio is 428.5 milliseconds. For digits in the range 0-9, the duration of the speech segment should be around 0.5 seconds with reasonable variation depending on speech rate (i.e., how fast the speaker speaks). "
   ]
  },
  {
   "cell_type": "markdown",
   "id": "d2a0c08e",
   "metadata": {
    "id": "d2a0c08e"
   },
   "source": [
    "## The Speech Signal Representation - Mel Spectrograms"
   ]
  },
  {
   "cell_type": "markdown",
   "id": "6370d9c2",
   "metadata": {
    "id": "6370d9c2"
   },
   "source": [
    "Humans can recognize and differentiate different speech sounds based on the frequency characteristics of the sounds. For machine learning applications, human speech is represented using spectro-temporal features in the [Mel-scale](https://en.wikipedia.org/wiki/Mel_scale) extracted from the speech sample. Mel-scale features are inspired by human speech perception and auditory processing whereby the human ear has difference sensitivity (or resolution) in differet frequency bandes. That is, the human ear can better recognize differences in in lower range frequences, while higher range frequences have a lower resolution. The Mel-scale is linear for frequencies in the range (0-1kHz), and logarithmic for frequencies above 1kHz.\n",
    "\n",
    "In the spectro-temporal representation of speech, a speech sample can be seen as a sequence of $T$ spectral vectors as $\\mathbf{X} = (\\mathbf{x}^1, \\mathbf{x}^2, \\dots, \\mathbf{x}^T)$. Each spectral vector $\\mathbf{x}^t \\in \\mathbb{R}^{k}$ at time-step $t$ is extracted from a short speech segment (~25 milliseconds) with the assumption that the signal is time-invariant in this small time window. Here, $k$ is the number of frequency bands in the [spectrogram](https://en.wikipedia.org/wiki/Spectrogram) and this is a parameter of the feature extraction pipeline. The representation is based on the Fourier transform to convert the temporal signal into the frequency domain. \n",
    "\n",
    "In automatic speech recognition (ASR) research and applications, spectral vectors are usually referred to as \"acoustic frames\". Morover, adjacent frames are extracted with some overlap between them, usually ~10 milliseconds. "
   ]
  },
  {
   "cell_type": "code",
   "execution_count": 242,
   "id": "ef41492d",
   "metadata": {
    "executionInfo": {
     "elapsed": 20,
     "status": "aborted",
     "timestamp": 1674212543217,
     "user": {
      "displayName": "Hyoseung Kang",
      "userId": "00233629824676120159"
     },
     "user_tz": -60
    },
    "id": "ef41492d"
   },
   "outputs": [],
   "source": [
    "def extract_melspectrogram(signal, sr, num_mels):\n",
    "    \"\"\"\n",
    "    Given a time series speech signal (.wav), sampling rate (sr), \n",
    "    and the number of mel coefficients, return a mel-scaled \n",
    "    representation of the signal as numpy array.\n",
    "    \"\"\"\n",
    "        \n",
    "    mel_features = librosa.feature.melspectrogram(y=signal,\n",
    "        sr=sr,\n",
    "        n_fft=200, # with sampling rate = 8000, this corresponds to 25 ms\n",
    "        hop_length=80, # with sampling rate = 8000, this corresponds to 10 ms\n",
    "        n_mels=num_mels, # number of frequency bins, use either 13 or 39\n",
    "        fmin=50, # min frequency threshold\n",
    "        fmax=4000 # max frequency threshold, set to SAMPLING_RATE/2\n",
    "    )\n",
    "    \n",
    "    # for numerical stability added this line\n",
    "    mel_features = np.where(mel_features == 0, np.finfo(float).eps, mel_features)\n",
    "\n",
    "    # 20 * log10 to convert to log scale\n",
    "    log_mel_features = 20*np.log10(mel_features)\n",
    "\n",
    "    # feature scaling\n",
    "    scaled_log_mel_features = preprocessing.scale(log_mel_features, axis=1)\n",
    "    \n",
    "    return scaled_log_mel_features"
   ]
  },
  {
   "cell_type": "code",
   "execution_count": 243,
   "id": "3600d78e",
   "metadata": {
    "executionInfo": {
     "elapsed": 21,
     "status": "aborted",
     "timestamp": 1674212543218,
     "user": {
      "displayName": "Hyoseung Kang",
      "userId": "00233629824676120159"
     },
     "user_tz": -60
    },
    "id": "3600d78e"
   },
   "outputs": [
    {
     "data": {
      "text/plain": [
       "(13, 43)"
      ]
     },
     "execution_count": 243,
     "metadata": {},
     "output_type": "execute_result"
    }
   ],
   "source": [
    "melspectrogram = extract_melspectrogram(x, sr, num_mels=13)\n",
    "\n",
    "melspectrogram.shape"
   ]
  },
  {
   "cell_type": "markdown",
   "id": "7ae0a639",
   "metadata": {
    "id": "7ae0a639"
   },
   "source": [
    "Note that the shape of the array (K x T) represents the number of frequency bands (K) and the number of spectral vectors in this representation (here, K=13, T=43). K is a hyperparameter and the recommended values in ASR research are (13, 39, 81, etc). Here, we fix K = 13. On the other hand, T varies from sample to sample depending on the duration of the sample.  "
   ]
  },
  {
   "cell_type": "code",
   "execution_count": 244,
   "id": "f17e8976",
   "metadata": {
    "executionInfo": {
     "elapsed": 22,
     "status": "aborted",
     "timestamp": 1674212543219,
     "user": {
      "displayName": "Hyoseung Kang",
      "userId": "00233629824676120159"
     },
     "user_tz": -60
    },
    "id": "f17e8976"
   },
   "outputs": [
    {
     "data": {
      "image/png": "[encoded data removed]",
      "text/plain": [
       "<Figure size 720x144 with 1 Axes>"
      ]
     },
     "metadata": {
      "needs_background": "light"
     },
     "output_type": "display_data"
    }
   ],
   "source": [
    "# plot and view the spectrogram\n",
    "\n",
    "fig, ax = plt.subplots(figsize=(10, 2), sharex=True)\n",
    "\n",
    "img = librosa.display.specshow(\n",
    "    melspectrogram, \n",
    "    sr=sr, \n",
    "    x_axis='time', \n",
    "    y_axis='mel', \n",
    "    cmap='viridis', \n",
    "    fmax=4000, \n",
    "    hop_length=80\n",
    ")\n",
    "\n",
    "ax.set(title='Log-frequency power spectrogram')\n",
    "\n",
    "ax.label_outer()"
   ]
  },
  {
   "cell_type": "markdown",
   "id": "e6c872b6",
   "metadata": {
    "id": "e6c872b6"
   },
   "source": [
    "As you can see above from the figure, the spectrogram representation can be viewed as a matrix $\\mathbf{X} \\in \\mathbb{R}^{T} \\times \\mathbb{R}^{k}$.  "
   ]
  },
  {
   "cell_type": "markdown",
   "id": "d5392b92",
   "metadata": {
    "id": "d5392b92"
   },
   "source": [
    "## Task I\n",
    "1. One problem with the spectrogram as a speech feature represetation is that different speech samples would have dfferent durations due to inherent speech variability (e.g., speech rate, speaker dialect, etc). That is, the $T$ in the $(T \\times k)$-dimensional representation would be different for each sample. Therefore, for the baseline model, we will implement a method to have a fixed-size representation for all speech samples. Write a function downsample_spectrogram(X, N) that takes as input a spectrogram $\\mathbf{X} \\in \\mathbb{R}^{T \\times k}$ and a parameter N <= 25. The function should (1) make N equally-sized splits of S across the time-axis, (2) apply a pooling technique (e.g., mean pooling) to each split across the frequency axis to obtain an array that represents a downsampled version of the spectrogram $\\mathbf{X}' \\in \\mathbb{R}^{N \\times k}$, and (3) re-arange $\\mathbf{X}'$ as a vector $\\mathbf{v} \\in \\mathbb{R}^{Nk}$.    \n",
    "\n",
    "2. Using the downsample_spectrogram(X, N) function, transform all the speech samples into vectors $\\mathbf{v} \\in \\mathbb{R}^{Nk}$. \n",
    "\n",
    "3. Given the speaker-based train/dev/test spilts in the SDR_metadata.tsv, fit a linear model on the training samples. That is, your model should be build on data from 4 speakers {'nicolas', 'theo' , 'jackson',  'george'}. Hint: you can experiment with a few model alternatives in the SGDClassifier module in scikit-learn. \n",
    "\n",
    "4. Evaluate you model on the dev and test splits. Use accuracy as an evaluation metric. Analyze the model performance using a [confusion matrix](https://en.wikipedia.org/wiki/Confusion_matrix) of the all possible labels (0-9), Analyze [precision, recall](https://en.wikipedia.org/wiki/Precision_and_recall), [F1-score](https://en.wikipedia.org/wiki/F-score) for each label. Report your observation."
   ]
  },
  {
   "cell_type": "code",
   "execution_count": 261,
   "id": "423a3e64",
   "metadata": {
    "executionInfo": {
     "elapsed": 23,
     "status": "aborted",
     "timestamp": 1674212543220,
     "user": {
      "displayName": "Hyoseung Kang",
      "userId": "00233629824676120159"
     },
     "user_tz": -60
    },
    "id": "423a3e64"
   },
   "outputs": [],
   "source": [
    "def downsample_spectrogram(X, N, pool=\"mean\"):\n",
    "    \"\"\"\n",
    "    Given a spectrogram of an arbitrary length/duration (X ∈ K x T), \n",
    "    return a downsampled version of the spectrogram v ∈ K * N\n",
    "    \"\"\"\n",
    "    # ... your code here\n",
    "    K, T = X.shape\n",
    "    pool_size = int(np.ceil(T / N))\n",
    "    padding_length = pool_size * N - T\n",
    "    padded_X = np.concatenate((X, np.zeros((K, padding_length), dtype=X.dtype)), axis=1)\n",
    "    padded_X_reshaped = padded_X.reshape(N, -1, pool_size)\n",
    "    if pool=='mean':\n",
    "        padded_X_mean = np.mean(padded_X_reshaped, axis=2)\n",
    "    else:\n",
    "        raise \"not implemented\"\n",
    "    return padded_X_mean"
   ]
  },
  {
   "cell_type": "code",
   "execution_count": 262,
   "id": "faabedd3-aacd-4eec-bbf9-3a349e9b61da",
   "metadata": {},
   "outputs": [
    {
     "name": "stdout",
     "output_type": "stream",
     "text": [
      "input shape (3, 5)\n",
      "result shape (3, 3)\n"
     ]
    }
   ],
   "source": [
    "# An example\n",
    "arr = np.array([[1, 2, 3, 4, 5],\n",
    "                [6, 7, 8, 9, 10],\n",
    "                [11, 12, 13, 14, 15]])\n",
    "print(\"input shape\", arr.shape)\n",
    "print(\"result shape\", downsample_spectrogram(arr, 3).shape)"
   ]
  },
  {
   "cell_type": "markdown",
   "id": "1bbe63ed",
   "metadata": {
    "id": "1bbe63ed"
   },
   "source": [
    "## Baseline Model"
   ]
  },
  {
   "cell_type": "code",
   "execution_count": 297,
   "id": "3955c259-dabd-4ebd-9c5a-052ef956da15",
   "metadata": {},
   "outputs": [
    {
     "name": "stdout",
     "output_type": "stream",
     "text": [
      "number of classes 10\n"
     ]
    }
   ],
   "source": [
    "# prepare data and split \n",
    "def partition_load(pdf,SAMPLING_RATE = 8000):\n",
    "    y = pdf[['label']]\n",
    "    x, sr = librosa.load(sample_wav_file, sr=SAMPLING_RATE)\n",
    "    x = list(map(lambda file_name: librosa.load(file_name, sr=SAMPLING_RATE)[0], pdf['file'].tolist())) \n",
    "    x = np.array(x)\n",
    "    return x, y\n",
    "    \n",
    "def load_and_split(meta_filename, speaker):\n",
    "    sdr_df = pd.read_csv('SDR_metadata.tsv', sep='\\t', header=0, index_col='Unnamed: 0')\n",
    "    train_df = sdr_df.query(\"split == 'TRAIN'\")\n",
    "    train_df = train_df[train_df['speaker'].isin(speaker)]\n",
    "    train = partition_load(train_df)\n",
    "    test = partition_load(sdr_df.query(\"split == 'TEST'\"))\n",
    "    dev = partition_load(sdr_df.query(\"split == 'DEV'\"))\n",
    "    \n",
    "    return train, dev, test\n",
    "\n",
    "def preprocess(data, downsample_size=16, num_mels=13, pool='mean'):\n",
    "    X, y = data\n",
    "    X = [extract_melspectrogram(x, sr=SAMPLING_RATE, num_mels=num_mels) for x in X]\n",
    "    X = [downsample_spectrogram(x, downsample_size, pool) for x in X]\n",
    "    X = np.array(X)\n",
    "    print (X.shape)\n",
    "    y = np.array(y.values.tolist())[:,0]\n",
    "    return X, y\n",
    "    \n",
    "\n",
    "def evaluate(data, model=None,y_pred=None):\n",
    "    X_test, y_test = data\n",
    "    if model:\n",
    "        y_pred = model.predict(X_test)\n",
    "    \n",
    "    # accuracy:     \n",
    "    accuracy = accuracy_score(y_test, y_pred)\n",
    "    print(\"Accuracy on test set: {:.2f}%\".format(accuracy * 100))\n",
    "    # analyze the confusion matrix of the baseline \n",
    "    confusion = confusion_matrix(y_test, y_pred)\n",
    "    # report precision, recall, F1-score for each label \n",
    "    report = classification_report(y_test, y_pred)\n",
    "    \n",
    "    return accuracy, confusion, report\n",
    "speakers = ['george', 'jackson', 'lucas', 'nicolas', 'theo', 'yweweler'][:4]\n",
    "speakers_selected = ['nicolas', 'theo' , 'jackson',  'george']\n",
    "train, dev, test = load_and_split(None, speakers_selected)\n",
    "num_classes = np.max(train[1].values.tolist()) + 1\n",
    "print(\"number of classes\", num_classes)\n"
   ]
  },
  {
   "cell_type": "code",
   "execution_count": 298,
   "id": "b52bdbae-49ea-4cc4-b77a-7778f4beafd3",
   "metadata": {},
   "outputs": [
    {
     "name": "stdout",
     "output_type": "stream",
     "text": [
      "(2000, 16, 13)\n",
      "(503, 16, 13)\n",
      "(497, 16, 13)\n"
     ]
    }
   ],
   "source": [
    "_train = list(preprocess(train))\n",
    "_test = list(preprocess(test))\n",
    "_dev = list(preprocess(dev))"
   ]
  },
  {
   "cell_type": "code",
   "execution_count": 299,
   "id": "b33e1ba6-e482-449d-a152-7054f1d14f9c",
   "metadata": {},
   "outputs": [],
   "source": [
    "# Flatten the last layer\n",
    "_train[0] = _train[0].reshape(_train[0].shape[0], -1)\n",
    "_test[0] = _test[0].reshape(_test[0].shape[0], -1)\n",
    "_dev[0] = _dev[0].reshape(_dev[0].shape[0], -1)"
   ]
  },
  {
   "cell_type": "markdown",
   "id": "8e97fa45-9dc3-4778-81f8-34b4847a35e8",
   "metadata": {},
   "source": [
    "### SGD classifier"
   ]
  },
  {
   "cell_type": "code",
   "execution_count": 289,
   "id": "c53298ad",
   "metadata": {
    "executionInfo": {
     "elapsed": 24,
     "status": "aborted",
     "timestamp": 1674212543221,
     "user": {
      "displayName": "Hyoseung Kang",
      "userId": "00233629824676120159"
     },
     "user_tz": -60
    },
    "id": "c53298ad",
    "tags": []
   },
   "outputs": [
    {
     "name": "stdout",
     "output_type": "stream",
     "text": [
      "Accuracy on test set: 40.95%\n",
      "Accuracy on test set: 38.43%\n",
      "Accuracy on test set: 40.95%\n",
      "Accuracy on test set: 38.43%\n",
      "Confusion matrix on Test set:\n",
      "[[31  0  5  0  0  0  5 10  0  2]\n",
      " [ 0 31  0  0  0  3 18  0  3  0]\n",
      " [ 1  0 15  0  7  0 24  4  2  1]\n",
      " [ 0  0  0  2  1  4 26  1  2 10]\n",
      " [18  0  0  0 11  0  7  9  0  1]\n",
      " [ 0  1  0  4  2  7 30  4  1  1]\n",
      " [ 0  0  0  1  2  1 39  1  2  0]\n",
      " [ 0  0  0  1  0  0 12 30  2  2]\n",
      " [ 0  0  0  1  0  2 30  1 16  6]\n",
      " [ 0  0  0  1  0  5 17  3  0 24]]\n",
      "              precision    recall  f1-score   support\n",
      "\n",
      "           0       0.62      0.58      0.60        53\n",
      "           1       0.97      0.56      0.71        55\n",
      "           2       0.75      0.28      0.41        54\n",
      "           3       0.20      0.04      0.07        46\n",
      "           4       0.48      0.24      0.32        46\n",
      "           5       0.32      0.14      0.19        50\n",
      "           6       0.19      0.85      0.31        46\n",
      "           7       0.48      0.64      0.55        47\n",
      "           8       0.57      0.29      0.38        56\n",
      "           9       0.51      0.48      0.49        50\n",
      "\n",
      "    accuracy                           0.41       503\n",
      "   macro avg       0.51      0.41      0.40       503\n",
      "weighted avg       0.52      0.41      0.41       503\n",
      "\n",
      "Confusion matrix on Dev set:\n",
      "[[30  0  4  0  0  0  4  5  0  4]\n",
      " [ 0 23  0  0  0  3 16  2  0  1]\n",
      " [ 5  0 10  0  3  0 22  6  0  0]\n",
      " [ 0  0  0  2  0  0 34  3  4 11]\n",
      " [26  0  2  1 10  0 13  2  0  0]\n",
      " [ 1  0  0  3  2  6 31  0  2  5]\n",
      " [ 0  0  1  0  0  0 47  4  1  1]\n",
      " [ 0  0  1  1  1  0 23 26  1  0]\n",
      " [ 0  0  0  0  1  0 24  2 15  2]\n",
      " [ 0  1  0  0  0  7 17  0  3 22]]\n",
      "              precision    recall  f1-score   support\n",
      "\n",
      "           0       0.48      0.64      0.55        47\n",
      "           1       0.96      0.51      0.67        45\n",
      "           2       0.56      0.22      0.31        46\n",
      "           3       0.29      0.04      0.07        54\n",
      "           4       0.59      0.19      0.28        54\n",
      "           5       0.38      0.12      0.18        50\n",
      "           6       0.20      0.87      0.33        54\n",
      "           7       0.52      0.49      0.50        53\n",
      "           8       0.58      0.34      0.43        44\n",
      "           9       0.48      0.44      0.46        50\n",
      "\n",
      "    accuracy                           0.38       497\n",
      "   macro avg       0.50      0.39      0.38       497\n",
      "weighted avg       0.49      0.38      0.37       497\n",
      "\n"
     ]
    }
   ],
   "source": [
    "\n",
    "# train a linear model \n",
    "model = SGDClassifier()\n",
    "model.fit(_train[0], _train[1])\n",
    "# evaluate the model using accuracy metric\n",
    "\n",
    "test_acc, test_confusion, test_report = evaluate(_test, model)\n",
    "dev_acc, dev_confusion, dev_report = evaluate(_dev, model)\n",
    "print(\"Accuracy on test set: {:.2f}%\".format(test_acc * 100))\n",
    "print(\"Accuracy on test set: {:.2f}%\".format(dev_acc * 100))\n",
    "\n",
    "print(\"Confusion matrix on Test set:\")\n",
    "print(test_confusion)\n",
    "# report precision, recall, F1-score for each label \n",
    "print (test_report)\n",
    "\n",
    "print(\"Confusion matrix on Dev set:\")\n",
    "print(dev_confusion)\n",
    "# report precision, recall, F1-score for each label \n",
    "print (dev_report)"
   ]
  },
  {
   "cell_type": "markdown",
   "id": "654319c1-0f9d-4f75-998d-77d4e2f3d0c3",
   "metadata": {},
   "source": [
    "### Ridge classifier"
   ]
  },
  {
   "cell_type": "code",
   "execution_count": 288,
   "id": "6451ab9e-45cd-4c02-ae78-4088ad66dbaa",
   "metadata": {},
   "outputs": [
    {
     "name": "stdout",
     "output_type": "stream",
     "text": [
      "Accuracy on test set: 48.71%\n",
      "Accuracy on test set: 45.47%\n",
      "Accuracy on test set: 48.71%\n",
      "Accuracy on test set: 45.47%\n",
      "Confusion matrix on Test set:\n",
      "[[39  0  6  0  0  0  0  8  0  0]\n",
      " [ 0 41  0  4  4  0  1  0  5  0]\n",
      " [ 5  8 15  0  1  0  5  8  9  3]\n",
      " [ 0  4  0 24  0  5  1  6  2  4]\n",
      " [13  2  4  2  4  7  0 13  1  0]\n",
      " [ 5  7  0  2  0 14 13  3  2  4]\n",
      " [ 0  0  0  1  1  0 33  4  7  0]\n",
      " [ 0  2  2  1  1  0  2 27 12  0]\n",
      " [ 1  3  1  1  0  1 19  2 26  2]\n",
      " [ 0  6  0  3  0 15  1  3  0 22]]\n",
      "              precision    recall  f1-score   support\n",
      "\n",
      "           0       0.62      0.74      0.67        53\n",
      "           1       0.56      0.75      0.64        55\n",
      "           2       0.54      0.28      0.37        54\n",
      "           3       0.63      0.52      0.57        46\n",
      "           4       0.36      0.09      0.14        46\n",
      "           5       0.33      0.28      0.30        50\n",
      "           6       0.44      0.72      0.55        46\n",
      "           7       0.36      0.57      0.45        47\n",
      "           8       0.41      0.46      0.43        56\n",
      "           9       0.63      0.44      0.52        50\n",
      "\n",
      "    accuracy                           0.49       503\n",
      "   macro avg       0.49      0.48      0.46       503\n",
      "weighted avg       0.49      0.49      0.47       503\n",
      "\n",
      "Confusion matrix on Dev set:\n",
      "[[42  1  2  0  0  0  0  2  0  0]\n",
      " [ 0 34  0  3  4  0  3  0  1  0]\n",
      " [ 6  6 11  1  2  0  4 12  4  0]\n",
      " [ 1  1  0 26  0  7  6  8  2  3]\n",
      " [17  4  5  1  6  6  2  9  2  2]\n",
      " [ 3  8  0  3  0 14 13  1  3  5]\n",
      " [ 0  0  0  9  0  0 28  8  8  1]\n",
      " [ 0  8  3  4  0  0  3 27  7  1]\n",
      " [ 2  3  0  0  1  0 13  1 24  0]\n",
      " [ 1  7  0  4  0 20  1  0  3 14]]\n",
      "              precision    recall  f1-score   support\n",
      "\n",
      "           0       0.58      0.89      0.71        47\n",
      "           1       0.47      0.76      0.58        45\n",
      "           2       0.52      0.24      0.33        46\n",
      "           3       0.51      0.48      0.50        54\n",
      "           4       0.46      0.11      0.18        54\n",
      "           5       0.30      0.28      0.29        50\n",
      "           6       0.38      0.52      0.44        54\n",
      "           7       0.40      0.51      0.45        53\n",
      "           8       0.44      0.55      0.49        44\n",
      "           9       0.54      0.28      0.37        50\n",
      "\n",
      "    accuracy                           0.45       497\n",
      "   macro avg       0.46      0.46      0.43       497\n",
      "weighted avg       0.46      0.45      0.43       497\n",
      "\n"
     ]
    }
   ],
   "source": [
    "# train a linear model \n",
    "model = RidgeClassifier()\n",
    "model.fit(_train[0], _train[1])\n",
    "# evaluate the model using accuracy metric\n",
    "\n",
    "test_acc, test_confusion, test_report = evaluate(_test, model)\n",
    "dev_acc, dev_confusion, dev_report = evaluate(_dev, model)\n",
    "print(\"Accuracy on test set: {:.2f}%\".format(test_acc * 100))\n",
    "print(\"Accuracy on test set: {:.2f}%\".format(dev_acc * 100))\n",
    "\n",
    "print(\"Confusion matrix on Test set:\")\n",
    "print(test_confusion)\n",
    "# report precision, recall, F1-score for each label \n",
    "print (test_report)\n",
    "\n",
    "print(\"Confusion matrix on Dev set:\")\n",
    "print(dev_confusion)\n",
    "# report precision, recall, F1-score for each label \n",
    "print (dev_report)\n"
   ]
  },
  {
   "cell_type": "code",
   "execution_count": 292,
   "id": "e6ca7c57-0207-483f-8eff-6a14186c24e7",
   "metadata": {},
   "outputs": [
    {
     "name": "stdout",
     "output_type": "stream",
     "text": [
      "Accuracy on test set: 46.52%\n",
      "Accuracy on test set: 41.85%\n",
      "Accuracy on test set: 46.52%\n",
      "Accuracy on test set: 41.85%\n",
      "Confusion matrix on Test set:\n",
      "[[34  0  4  0  0  2  1 11  0  1]\n",
      " [ 0 50  0  0  0  0  3  0  2  0]\n",
      " [ 3 19 14  0  0  0  5 12  1  0]\n",
      " [ 0 13  1 11  1  1  0  3  2 14]\n",
      " [ 9  2  2  2  6  1  8 11  0  5]\n",
      " [ 0 17  1  1  0  5 16  5  0  5]\n",
      " [ 0  4  1  2  1  0 36  1  0  1]\n",
      " [ 0  7  0  0  0  1  7 27  5  0]\n",
      " [ 0  9  1  0  0  0 17  3 22  4]\n",
      " [ 0 10  0  2  0  3  3  3  0 29]]\n",
      "              precision    recall  f1-score   support\n",
      "\n",
      "           0       0.74      0.64      0.69        53\n",
      "           1       0.38      0.91      0.54        55\n",
      "           2       0.58      0.26      0.36        54\n",
      "           3       0.61      0.24      0.34        46\n",
      "           4       0.75      0.13      0.22        46\n",
      "           5       0.38      0.10      0.16        50\n",
      "           6       0.38      0.78      0.51        46\n",
      "           7       0.36      0.57      0.44        47\n",
      "           8       0.69      0.39      0.50        56\n",
      "           9       0.49      0.58      0.53        50\n",
      "\n",
      "    accuracy                           0.47       503\n",
      "   macro avg       0.54      0.46      0.43       503\n",
      "weighted avg       0.54      0.47      0.43       503\n",
      "\n",
      "Confusion matrix on Dev set:\n",
      "[[35  1  4  0  0  1  0  4  0  2]\n",
      " [ 0 36  0  0  0  1  3  3  2  0]\n",
      " [ 3 12  9  0  1  0  5 14  2  0]\n",
      " [ 0 14  0 19  0  3  5  2  3  8]\n",
      " [ 9  8  3  1  4  3  3 12  1 10]\n",
      " [ 0 19  0  2  1  5 14  1  1  7]\n",
      " [ 0  7  1  2  3  0 33  5  2  1]\n",
      " [ 0 14  4  0  0  1  6 25  3  0]\n",
      " [ 0  7  1  0  1  0 13  3 17  2]\n",
      " [ 0 11  0  5  0  4  4  0  1 25]]\n",
      "              precision    recall  f1-score   support\n",
      "\n",
      "           0       0.74      0.74      0.74        47\n",
      "           1       0.28      0.80      0.41        45\n",
      "           2       0.41      0.20      0.26        46\n",
      "           3       0.66      0.35      0.46        54\n",
      "           4       0.40      0.07      0.12        54\n",
      "           5       0.28      0.10      0.15        50\n",
      "           6       0.38      0.61      0.47        54\n",
      "           7       0.36      0.47      0.41        53\n",
      "           8       0.53      0.39      0.45        44\n",
      "           9       0.45      0.50      0.48        50\n",
      "\n",
      "    accuracy                           0.42       497\n",
      "   macro avg       0.45      0.42      0.40       497\n",
      "weighted avg       0.45      0.42      0.39       497\n",
      "\n"
     ]
    }
   ],
   "source": [
    "# train a linear model \n",
    "model = PassiveAggressiveClassifier()\n",
    "model.fit(_train[0], _train[1])\n",
    "# evaluate the model using accuracy metric\n",
    "\n",
    "test_acc, test_confusion, test_report = evaluate(_test, model)\n",
    "dev_acc, dev_confusion, dev_report = evaluate(_dev, model)\n",
    "print(\"Accuracy on test set: {:.2f}%\".format(test_acc * 100))\n",
    "print(\"Accuracy on test set: {:.2f}%\".format(dev_acc * 100))\n",
    "\n",
    "print(\"Confusion matrix on Test set:\")\n",
    "print(test_confusion)\n",
    "# report precision, recall, F1-score for each label \n",
    "print (test_report)\n",
    "\n",
    "print(\"Confusion matrix on Dev set:\")\n",
    "print(dev_confusion)\n",
    "# report precision, recall, F1-score for each label \n",
    "print (dev_report)"
   ]
  },
  {
   "cell_type": "code",
   "execution_count": 307,
   "id": "a4e097c7-9496-48b5-a3e9-eec95536b1ba",
   "metadata": {},
   "outputs": [
    {
     "name": "stderr",
     "output_type": "stream",
     "text": [
      "*c* argument looks like a single numeric RGB or RGBA sequence, which should be avoided as value-mapping will have precedence in case its length matches with *x* & *y*.  Please use the *color* keyword-argument or provide a 2D array with a single row if you intend to specify the same RGB or RGBA value for all points.\n",
      "*c* argument looks like a single numeric RGB or RGBA sequence, which should be avoided as value-mapping will have precedence in case its length matches with *x* & *y*.  Please use the *color* keyword-argument or provide a 2D array with a single row if you intend to specify the same RGB or RGBA value for all points.\n",
      "*c* argument looks like a single numeric RGB or RGBA sequence, which should be avoided as value-mapping will have precedence in case its length matches with *x* & *y*.  Please use the *color* keyword-argument or provide a 2D array with a single row if you intend to specify the same RGB or RGBA value for all points.\n",
      "*c* argument looks like a single numeric RGB or RGBA sequence, which should be avoided as value-mapping will have precedence in case its length matches with *x* & *y*.  Please use the *color* keyword-argument or provide a 2D array with a single row if you intend to specify the same RGB or RGBA value for all points.\n",
      "*c* argument looks like a single numeric RGB or RGBA sequence, which should be avoided as value-mapping will have precedence in case its length matches with *x* & *y*.  Please use the *color* keyword-argument or provide a 2D array with a single row if you intend to specify the same RGB or RGBA value for all points.\n",
      "*c* argument looks like a single numeric RGB or RGBA sequence, which should be avoided as value-mapping will have precedence in case its length matches with *x* & *y*.  Please use the *color* keyword-argument or provide a 2D array with a single row if you intend to specify the same RGB or RGBA value for all points.\n",
      "*c* argument looks like a single numeric RGB or RGBA sequence, which should be avoided as value-mapping will have precedence in case its length matches with *x* & *y*.  Please use the *color* keyword-argument or provide a 2D array with a single row if you intend to specify the same RGB or RGBA value for all points.\n",
      "*c* argument looks like a single numeric RGB or RGBA sequence, which should be avoided as value-mapping will have precedence in case its length matches with *x* & *y*.  Please use the *color* keyword-argument or provide a 2D array with a single row if you intend to specify the same RGB or RGBA value for all points.\n",
      "*c* argument looks like a single numeric RGB or RGBA sequence, which should be avoided as value-mapping will have precedence in case its length matches with *x* & *y*.  Please use the *color* keyword-argument or provide a 2D array with a single row if you intend to specify the same RGB or RGBA value for all points.\n",
      "*c* argument looks like a single numeric RGB or RGBA sequence, which should be avoided as value-mapping will have precedence in case its length matches with *x* & *y*.  Please use the *color* keyword-argument or provide a 2D array with a single row if you intend to specify the same RGB or RGBA value for all points.\n"
     ]
    },
    {
     "data": {
      "image/png": "[encoded data removed]",
      "text/plain": [
       "<Figure size 720x720 with 1 Axes>"
      ]
     },
     "metadata": {
      "needs_background": "light"
     },
     "output_type": "display_data"
    }
   ],
   "source": [
    "from sklearn.manifold import TSNE\n",
    "import matplotlib.pyplot as plt\n",
    "import matplotlib\n",
    "feats = _test[0]\n",
    "\n",
    "tsne_output = TSNE(n_components=2).fit_transform(feats)\n",
    "plt.figure(figsize=(10,10))\n",
    "# Plot the reduced-dimensional data in a scatter plot, colored by the true labels\n",
    "color_map = plt.cm.get_cmap('gist_ncar', 10)\n",
    "y_true = _test[1]\n",
    "for i in range(10):\n",
    "    mask = np.array(y_true) == i\n",
    "    # ax.scatter(tsne_output[mask][:,0], tsne_output[mask][:,1], c=color_map(i)[:3], label=f'{i}')        \n",
    "    plt.scatter(tsne_output[mask][:,0], tsne_output[mask][:,1], c=(np.random.rand(), np.random.rand(), np.random.rand()), label=f'{i}')        \n",
    "plt.legend()\n",
    "\n",
    "# Add axis labels and a title\n",
    "plt.xlabel('1st dim')\n",
    "plt.ylabel('2nd dim')\n",
    "plt.show()"
   ]
  },
  {
   "cell_type": "code",
   "execution_count": 305,
   "id": "be00c22c-0cf9-4b76-972d-7044843de931",
   "metadata": {},
   "outputs": [
    {
     "data": {
      "text/plain": [
       "array([2, 9, 1, 6, 0, 9, 3, 7, 5, 1, 4, 6, 2, 1, 9, 2, 6, 7, 4, 4, 5, 4,\n",
       "       8, 6, 0, 2, 6, 2, 0, 6, 2, 1, 3, 3, 0, 2, 2, 2, 2, 9, 9, 2, 0, 9,\n",
       "       2, 1, 2, 7, 5, 7, 7, 3, 3, 3, 4, 8, 0, 9, 7, 4, 2, 6, 5, 5, 9, 4,\n",
       "       0, 8, 8, 3, 0, 2, 2, 0, 2, 2, 0, 2, 5, 9, 9, 5, 7, 6, 4, 0, 6, 0,\n",
       "       2, 6, 6, 0, 6, 2, 8, 2, 8, 9, 4, 1, 7, 9, 8, 7, 7, 0, 9, 1, 8, 6,\n",
       "       5, 3, 2, 2, 0, 1, 1, 8, 9, 4, 5, 2, 1, 3, 2, 1, 0, 3, 0, 2, 2, 8,\n",
       "       3, 7, 1, 0, 9, 5, 7, 0, 4, 2, 6, 4, 7, 1, 5, 5, 1, 7, 5, 3, 2, 0,\n",
       "       7, 8, 0, 1, 2, 4, 5, 0, 3, 5, 6, 4, 2, 8, 5, 2, 7, 6, 1, 2, 2, 4,\n",
       "       7, 0, 1, 7, 7, 9, 8, 3, 0, 8, 4, 3, 6, 6, 4, 6, 5, 7, 7, 0, 4, 0,\n",
       "       8, 9, 1, 3, 0, 8, 9, 9, 6, 2, 8, 2, 7, 0, 9, 4, 7, 4, 0, 3, 8, 8,\n",
       "       1, 7, 3, 4, 3, 0, 8, 8, 3, 0, 8, 6, 4, 6, 2, 1, 8, 4, 1, 8, 4, 5,\n",
       "       6, 4, 1, 1, 7, 6, 3, 1, 2, 1, 8, 1, 4, 6, 8, 0, 0, 2, 8, 8, 9, 3,\n",
       "       1, 1, 1, 2, 4, 2, 5, 8, 0, 9, 3, 5, 8, 2, 8, 7, 4, 9, 4, 6, 5, 1,\n",
       "       9, 4, 9, 2, 9, 0, 7, 8, 5, 3, 8, 7, 3, 8, 9, 5, 7, 9, 6, 6, 1, 5,\n",
       "       1, 1, 8, 1, 3, 8, 1, 7, 6, 5, 0, 4, 6, 5, 7, 3, 1, 2, 5, 7, 1, 8,\n",
       "       3, 6, 2, 2, 0, 5, 9, 1, 9, 6, 0, 4, 5, 1, 9, 1, 6, 0, 3, 9, 7, 8,\n",
       "       5, 6, 9, 1, 5, 5, 6, 9, 6, 5, 3, 9, 7, 5, 6, 5, 3, 1, 9, 9, 8, 4,\n",
       "       9, 1, 4, 1, 8, 0, 4, 2, 0, 9, 9, 4, 9, 5, 5, 4, 4, 7, 6, 8, 1, 7,\n",
       "       8, 3, 8, 8, 0, 4, 7, 7, 0, 1, 9, 6, 5, 4, 3, 5, 8, 0, 1, 5, 6, 7,\n",
       "       5, 6, 5, 5, 5, 3, 5, 2, 8, 9, 0, 0, 8, 7, 7, 9, 3, 8, 1, 5, 5, 1,\n",
       "       0, 3, 9, 3, 3, 6, 9, 4, 9, 3, 3, 2, 0, 7, 8, 7, 2, 3, 5, 0, 6, 8,\n",
       "       8, 7, 1, 7, 1, 3, 4, 4, 9, 0, 8, 7, 1, 9, 0, 1, 2, 6, 8, 6, 5, 5,\n",
       "       4, 1, 4, 3, 7, 0, 3, 4, 8, 1, 0, 2, 8, 2, 3, 9, 8, 3, 6])"
      ]
     },
     "execution_count": 305,
     "metadata": {},
     "output_type": "execute_result"
    }
   ],
   "source": []
  },
  {
   "cell_type": "markdown",
   "id": "435d62c9",
   "metadata": {
    "id": "435d62c9"
   },
   "source": [
    "    def __init__(self, dataset, batch_size, shuffle=True, num_workers=0):\n",
    "        super().__init__(dataset, batch_size=batch_size, shuffle=shuffle, num_workers=num_workers)\n",
    "        self.dataset = dataset\n",
    "        self.batch_size = batch_size\n",
    "        self.shuffle = shuffle\n",
    "        self.num_workers = num_workers\n",
    "\n",
    "    def __len__(self):\n",
    "        return len(self.dataset) // self.batch_size\n",
    "    \n",
    "    def __iter__(self):\n",
    "        if self.shuffle:\n",
    "            indices = torch.randperm(len(self.dataset)).tolist()\n",
    "        else:\n",
    "            indices = list(range(len(self.dataset)))\n",
    "\n",
    "        for i in range(0, len(indices), self.batch_size):\n",
    "            batch_indices = indices[i:i+self.batch_size]\n",
    "            batch = [self.dataset[j] for j in batch_indices]\n",
    "            # Perform any necessary batch processing here\n",
    "            yield batch## Task II\n",
    "1. Having established a baseline with a linear model trained on a downsampled signal representation of the speech segment, this task aims to learn a classifier based on the full speech segment. To this end, you will implement a neural model that is suitable for sequential data such as recurrent DNN, convolutional DNN with 1-D temporal convolution, or an audio transformer. The model should take the acoustic sample as it is (i.e., the Mel spectrogram could have an arbitrary length) without the need to downsample the segment. You need to implement at least two of the aforementioned models. Do the neural models improve accuracy over the baseline model? Do you observe any signs of overfitting to the training data? How do the hyperparameters affect the model performance? Report and discuss your observations.        \n",
    "\n",
    "2. Evaluate your (best) neural models and compare to the baseline model using the same evalution process as in task I.4. \n",
    "\n",
    "3. Use a dimensionality reduction algorithm such as t-SNE \\[[1](https://en.wikipedia.org/wiki/T-distributed_stochastic_neighbor_embedding),[2](https://pypi.org/project/tsne-torch/),[3](https://scikit-learn.org/stable/modules/generated/sklearn.manifold.TSNE.html)\\] or [UMAP](https://umap-learn.readthedocs.io/en/latest/basic_usage.html) to analyze how the different models seperate the different classes (the last non-linear layer in your model). Compare to the downsampled representation you used in the baseline and report your observations.\n",
    "\n",
    "4. Are the differences between the different models statistically significant? To answer this question, you need to implement a statistical significance test based on bootstrapping method. To read more how to estiame p-values based on bootstrapping, we recommend the materials on this paper https://aclanthology.org/D12-1091.pdf. Include the baseline model in your evaluation. "
   ]
  },
  {
   "cell_type": "code",
   "execution_count": null,
   "id": "afea3ceb-3a70-47e6-855d-cc9acf4f9b57",
   "metadata": {},
   "outputs": [],
   "source": []
  },
  {
   "cell_type": "markdown",
   "id": "8f95e312",
   "metadata": {
    "id": "8f95e312"
   },
   "source": [
    "## Task III (Open Ended)\n",
    "1. Consider the case where we have speech data from a single speaker (e.g., george). Train your models on this subset of the data. What do you observe? How does this affect the model performance? \n",
    "\n",
    "2. Even though a model is trained on a single speaker, we would like the model to generalizes to any speaker. To this end, one can use data augmentation techniques to artificially create more samples for each class. Some of these augmentations can be applied on the spectrogram (e.g., SpecAugment https://ai.googleblog.com/2019/04/specaugment-new-data-augmentation.html), and other can be applied on the raw waveform before creating the spectrogram such as pitch manipulation (https://github.com/facebookresearch/WavAugment). Explore the effect of one type of augmentation from each type. Report your observation and anaylze the confusion matrices.\n",
    "\n",
    "3. Data augmentation techniques create different \"views\" of each training sample in a stochastic or determinstic approach. One can leaverage speech data augmentation to create views for training a neural network in a contrastive learning setting with margin-based objective function (for more info, read http://proceedings.mlr.press/v130/al-tahan21a/al-tahan21a.pdf). Implement at least one model using a contrastive loss based on different views of the training samples. Does this model improve over the model without contrastive learning? Report and discuss your observations. \n",
    "\n",
    "For more information on the contrastive learning framework, you can refer to this paper\n",
    "https://ieeexplore.ieee.org/stamp/stamp.jsp?arnumber=9226466"
   ]
  },
  {
   "cell_type": "code",
   "execution_count": null,
   "id": "33674cd9",
   "metadata": {
    "executionInfo": {
     "elapsed": 25,
     "status": "aborted",
     "timestamp": 1674212543222,
     "user": {
      "displayName": "Hyoseung Kang",
      "userId": "00233629824676120159"
     },
     "user_tz": -60
    },
    "id": "33674cd9"
   },
   "outputs": [],
   "source": []
  },
  {
   "cell_type": "code",
   "execution_count": null,
   "id": "6aab3876",
   "metadata": {
    "executionInfo": {
     "elapsed": 26,
     "status": "aborted",
     "timestamp": 1674212543223,
     "user": {
      "displayName": "Hyoseung Kang",
      "userId": "00233629824676120159"
     },
     "user_tz": -60
    },
    "id": "6aab3876"
   },
   "outputs": [],
   "source": []
  },
  {
   "cell_type": "code",
   "execution_count": null,
   "id": "34c37dff",
   "metadata": {
    "executionInfo": {
     "elapsed": 26,
     "status": "aborted",
     "timestamp": 1674212543224,
     "user": {
      "displayName": "Hyoseung Kang",
      "userId": "00233629824676120159"
     },
     "user_tz": -60
    },
    "id": "34c37dff"
   },
   "outputs": [],
   "source": []
  }
 ],
 "metadata": {
  "colab": {
   "provenance": []
  },
  "kernelspec": {
   "display_name": "3dvideo",
   "language": "python",
   "name": "3dvideo"
  },
  "language_info": {
   "codemirror_mode": {
    "name": "ipython",
    "version": 3
   },
   "file_extension": ".py",
   "mimetype": "text/x-python",
   "name": "python",
   "nbconvert_exporter": "python",
   "pygments_lexer": "ipython3",
   "version": "3.7.13"
  }
 },
 "nbformat": 4,
 "nbformat_minor": 5
}
